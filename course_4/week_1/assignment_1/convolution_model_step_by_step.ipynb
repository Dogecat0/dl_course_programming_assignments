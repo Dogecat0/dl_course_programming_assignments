{
 "cells": [
  {
   "cell_type": "code",
   "execution_count": 1,
   "metadata": {},
   "outputs": [
    {
     "name": "stdout",
     "output_type": "stream",
     "text": [
      "Requirement already satisfied: numpy in /Users/wangzhicheng/opt/anaconda3/envs/dlcourse/lib/python3.9/site-packages (from -r requirements.txt (line 1)) (1.22.2)\n",
      "Requirement already satisfied: h5py in /Users/wangzhicheng/opt/anaconda3/envs/dlcourse/lib/python3.9/site-packages (from -r requirements.txt (line 2)) (3.6.0)\n",
      "Requirement already satisfied: matplotlib in /Users/wangzhicheng/opt/anaconda3/envs/dlcourse/lib/python3.9/site-packages (from -r requirements.txt (line 3)) (3.5.1)\n",
      "Requirement already satisfied: pyparsing>=2.2.1 in /Users/wangzhicheng/opt/anaconda3/envs/dlcourse/lib/python3.9/site-packages (from matplotlib->-r requirements.txt (line 3)) (3.0.7)\n",
      "Requirement already satisfied: fonttools>=4.22.0 in /Users/wangzhicheng/opt/anaconda3/envs/dlcourse/lib/python3.9/site-packages (from matplotlib->-r requirements.txt (line 3)) (4.31.2)\n",
      "Requirement already satisfied: kiwisolver>=1.0.1 in /Users/wangzhicheng/opt/anaconda3/envs/dlcourse/lib/python3.9/site-packages (from matplotlib->-r requirements.txt (line 3)) (1.4.1)\n",
      "Requirement already satisfied: packaging>=20.0 in /Users/wangzhicheng/opt/anaconda3/envs/dlcourse/lib/python3.9/site-packages (from matplotlib->-r requirements.txt (line 3)) (21.3)\n",
      "Requirement already satisfied: python-dateutil>=2.7 in /Users/wangzhicheng/opt/anaconda3/envs/dlcourse/lib/python3.9/site-packages (from matplotlib->-r requirements.txt (line 3)) (2.8.2)\n",
      "Requirement already satisfied: pillow>=6.2.0 in /Users/wangzhicheng/opt/anaconda3/envs/dlcourse/lib/python3.9/site-packages (from matplotlib->-r requirements.txt (line 3)) (9.0.1)\n",
      "Requirement already satisfied: cycler>=0.10 in /Users/wangzhicheng/opt/anaconda3/envs/dlcourse/lib/python3.9/site-packages (from matplotlib->-r requirements.txt (line 3)) (0.11.0)\n",
      "Requirement already satisfied: six>=1.5 in /Users/wangzhicheng/opt/anaconda3/envs/dlcourse/lib/python3.9/site-packages (from python-dateutil>=2.7->matplotlib->-r requirements.txt (line 3)) (1.16.0)\n"
     ]
    }
   ],
   "source": [
    "!pip install -r requirements.txt"
   ]
  },
  {
   "cell_type": "code",
   "execution_count": 2,
   "metadata": {},
   "outputs": [],
   "source": [
    "import numpy as np\n",
    "import h5py\n",
    "import matplotlib.pyplot as plt\n",
    "from public_tests import *\n",
    "\n",
    "%matplotlib inline \n",
    "plt.rcParams['figure.figsize'] = (5.0, 4.0) # set default size of plots\n",
    "plt.rcParams['image.interpolation'] = 'nearest'\n",
    "plt.rcParams['image.cmap'] = 'gray'\n",
    "\n",
    "%load_ext autoreload\n",
    "%autoreload 2\n",
    "\n",
    "np.random.seed(1)"
   ]
  },
  {
   "cell_type": "code",
   "execution_count": 3,
   "metadata": {},
   "outputs": [],
   "source": [
    "# Zero padding\n",
    "\n",
    "def zero_pad(X, pad):\n",
    "    X_pad = np.pad(X, ((0,0),(pad,pad),(pad,pad),(0,0)), mode='constant', constant_values=(0,0))\n",
    "    return X_pad"
   ]
  },
  {
   "cell_type": "code",
   "execution_count": 4,
   "metadata": {},
   "outputs": [],
   "source": [
    "# Single step of convolution\n",
    "\n",
    "def conv_single_step(a_slice_prev, W, b):\n",
    "    s = np.multiply(a_slice_prev, W)\n",
    "    z = np.sum(s)\n",
    "    z = z + float(b)\n",
    "    return z"
   ]
  },
  {
   "cell_type": "code",
   "execution_count": 5,
   "metadata": {},
   "outputs": [],
   "source": [
    "# Convolutional neural networks - forward pass\n",
    "\n",
    "def conv_forward(A_prev, W, b, hparameters):\n",
    "    (m, n_H_prev, n_W_prev, n_C_prev) = (A_prev.shape[0], A_prev.shape[1], A_prev.shape[2], A_prev.shape[3])\n",
    "    (f, f, n_C_prev, n_C) = (W.shape[0], W.shape[1], W.shape[2], W.shape[3])\n",
    "\n",
    "    stride = hparameters['stride']\n",
    "    pad = hparameters['pad']\n",
    "    \n",
    "    n_H = int((n_H_prev + 2*pad - f)/stride) + 1\n",
    "    n_W = int((n_W_prev + 2*pad - f)/stride) + 1\n",
    "\n",
    "    z = np.zeros((m, n_H, n_W, n_C))\n",
    "\n",
    "    A_prev_pad = zero_pad(A_prev, pad)\n",
    "\n",
    "    for i in range(m):\n",
    "        a_prev_pad = A_prev_pad[i]\n",
    "        \n",
    "        for h in range(n_H):\n",
    "            vert_start = stride * h\n",
    "            vert_end = vert_start + f\n",
    "            \n",
    "            for w in range(n_W):\n",
    "                horiz_start = stride * w\n",
    "                horiz_end = horiz_start + f\n",
    "                \n",
    "                for c in range(n_C):\n",
    "                    a_slice_prev = A_prev_pad[i, vert_start:vert_end, horiz_start:horiz_end, :]\n",
    "                    weights = W[:,:,:,c]\n",
    "                    biases = b[:,:,:,c]\n",
    "                    z[i,h,w,c] = conv_single_step(a_slice_prev, weights, biases)\n",
    "    \n",
    "    cache = (A_prev, W, b,hparameters)\n",
    "    return z, cache\n",
    "                "
   ]
  },
  {
   "cell_type": "code",
   "execution_count": 11,
   "metadata": {},
   "outputs": [],
   "source": [
    "# Forward pooling\n",
    "\n",
    "def pool_forward(A_prev, hparameters, mode = 'max'):\n",
    "    (m, n_H_prev, n_W_prev, n_C_prev) = (A_prev.shape)\n",
    "\n",
    "    f = hparameters['f']\n",
    "    stride = hparameters['stride']\n",
    "\n",
    "    n_H = int(1 + (n_H_prev - f)/stride)\n",
    "    n_W = int(1 + (n_W_prev - f)/stride)\n",
    "    n_C = n_C_prev\n",
    "\n",
    "    A = np.zeros((m, n_H, n_W, n_C))\n",
    "\n",
    "    for i in range(m):\n",
    "        \n",
    "        for h in range(n_H):\n",
    "            vert_start = stride * h\n",
    "            vert_end = vert_start + f\n",
    "\n",
    "            for w in range(n_W):\n",
    "                horiz_start = stride * w\n",
    "                horiz_end = horiz_start + f\n",
    "\n",
    "                for c in range(n_C):\n",
    "                    a_prev_slice = A_prev[i]\n",
    "\n",
    "                    if mode == 'max':\n",
    "                        A[i,h,w,c] = np.max(a_prev_slice[vert_start:vert_end, horiz_start:horiz_end, c])\n",
    "                    elif mode == 'average':\n",
    "                        A[i,h,w,c] = np.mean(a_prev_slice[vert_start:vert_end, horiz_start:horiz_end,c])\n",
    "\n",
    "    cache = (A_prev, hparameters)\n",
    "\n",
    "    return A, cache\n",
    "            \n"
   ]
  }
 ],
 "metadata": {
  "interpreter": {
   "hash": "3c755d7428ef2916a60a5fecbc4eac8419c923f04501f2411844dce09f16cfba"
  },
  "kernelspec": {
   "display_name": "Python 3.9.10 ('dlcourse')",
   "language": "python",
   "name": "python3"
  },
  "language_info": {
   "codemirror_mode": {
    "name": "ipython",
    "version": 3
   },
   "file_extension": ".py",
   "mimetype": "text/x-python",
   "name": "python",
   "nbconvert_exporter": "python",
   "pygments_lexer": "ipython3",
   "version": "3.9.10"
  },
  "orig_nbformat": 4
 },
 "nbformat": 4,
 "nbformat_minor": 2
}
